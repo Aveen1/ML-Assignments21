{
 "cells": [
  {
   "cell_type": "code",
   "execution_count": null,
   "id": "838939ce",
   "metadata": {},
   "outputs": [],
   "source": [
    "#converting png dataset to bmp \n",
    "from PIL import Image \n",
    "import glob, os\n",
    "target_directory = \"/Users/muham/Downloads/TRAIN_RGB-20210716T073942Z-001/TRAIN_RGB\"\n",
    "for infile in glob.glob(os.path.join(target_directory, \"*.png\")):\n",
    "    file, ext = os.path.splitext(infile)\n",
    "    im = Image.open(infile)\n",
    "    im.save(file + \".bmp\", \"BMP\")"
   ]
  },
  {
   "cell_type": "code",
   "execution_count": null,
   "id": "08e6d1b9",
   "metadata": {},
   "outputs": [],
   "source": [
    "from PIL import Image \n",
    "import glob, os\n",
    "target_directory = \"/Users/muham/Downloads/haar-aveen/haar-aveen/test_recognition/test\"\n",
    "for infile in glob.glob(os.path.join(target_directory, \"*.png\")):\n",
    "    file, ext = os.path.splitext(infile)\n",
    "    im = Image.open(infile)\n",
    "    im.save(file + \".bmp\", \"BMP\")"
   ]
  },
  {
   "cell_type": "code",
   "execution_count": null,
   "id": "9bd2c024",
   "metadata": {},
   "outputs": [],
   "source": [
    "import cv2\n",
    "import numpy as np\n",
    "import matplotlib.pyplot as plt \n",
    "\n",
    "\n",
    "# Read in the cascade classifiers Apples\n",
    "cascade = cv2.CascadeClassifier('/Users/muham/Downloads/applelabel.xml')\n",
    "scale_factor = 1.1\n",
    "min_neighbors = 4\n",
    "min_size = (50, 50)\n",
    "\n",
    "video_cap = cv2.VideoCapture(\"/Users/muham/Downloads/haar-aveen/haar-aveen/test_recognition/apples.avi\")\n",
    "while True:\n",
    "    # Capture frame-by-frame\n",
    "    ret, img = video_cap.read()\n",
    "    #converting to gray image for faster video processing\n",
    "    gray = cv2.cvtColor(img, cv2.COLOR_BGR2GRAY)\n",
    "    rects = cascade.detectMultiScale(gray, scaleFactor=scale_factor, minNeighbors=min_neighbors)\n",
    "    # if at least 1 face detected\n",
    "    if len(rects) >= 0:\n",
    "        # Draw a rectangle around the faces\n",
    "        for (x, y, w, h) in rects:\n",
    "            cv2.rectangle(img, (x, y), (x + w, y + h), (0, 255, 0), 2)\n",
    "        # Display the resulting frame\n",
    "        cv2.imshow('Apple Detection on Video', img)\n",
    "        #wait for 'c' to close the application\n",
    "        if cv2.waitKey(1) & 0xFF == ord('c'):\n",
    "            break\n",
    "video_cap.release()\n",
    "cv2.destroyAllWindows()"
   ]
  },
  {
   "cell_type": "code",
   "execution_count": null,
   "id": "3001c1f5",
   "metadata": {},
   "outputs": [],
   "source": []
  },
  {
   "cell_type": "code",
   "execution_count": null,
   "id": "9d74bbd1",
   "metadata": {},
   "outputs": [],
   "source": []
  },
  {
   "cell_type": "code",
   "execution_count": null,
   "id": "4169c68a",
   "metadata": {},
   "outputs": [],
   "source": []
  },
  {
   "cell_type": "code",
   "execution_count": null,
   "id": "dc3a33c9",
   "metadata": {},
   "outputs": [],
   "source": []
  },
  {
   "cell_type": "code",
   "execution_count": null,
   "id": "2083ed05",
   "metadata": {},
   "outputs": [],
   "source": []
  },
  {
   "cell_type": "code",
   "execution_count": null,
   "id": "0b4cdb5c",
   "metadata": {},
   "outputs": [],
   "source": []
  },
  {
   "cell_type": "code",
   "execution_count": null,
   "id": "5f03a432",
   "metadata": {},
   "outputs": [],
   "source": []
  },
  {
   "cell_type": "code",
   "execution_count": null,
   "id": "d53c68a3",
   "metadata": {},
   "outputs": [],
   "source": []
  }
 ],
 "metadata": {
  "kernelspec": {
   "display_name": "Python 3",
   "language": "python",
   "name": "python3"
  },
  "language_info": {
   "codemirror_mode": {
    "name": "ipython",
    "version": 3
   },
   "file_extension": ".py",
   "mimetype": "text/x-python",
   "name": "python",
   "nbconvert_exporter": "python",
   "pygments_lexer": "ipython3",
   "version": "3.8.8"
  }
 },
 "nbformat": 4,
 "nbformat_minor": 5
}
